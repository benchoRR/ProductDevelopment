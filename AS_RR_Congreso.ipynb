{
  "nbformat": 4,
  "nbformat_minor": 0,
  "metadata": {
    "colab": {
      "provenance": [],
      "authorship_tag": "ABX9TyP2NF5CGLU99bsZQf7CiohY",
      "include_colab_link": true
    },
    "kernelspec": {
      "name": "python3",
      "display_name": "Python 3"
    },
    "language_info": {
      "name": "python"
    }
  },
  "cells": [
    {
      "cell_type": "markdown",
      "metadata": {
        "id": "view-in-github",
        "colab_type": "text"
      },
      "source": [
        "<a href=\"https://colab.research.google.com/github/benchoRR/ProductDevelopment/blob/main/AS_RR_Congreso.ipynb\" target=\"_parent\"><img src=\"https://colab.research.google.com/assets/colab-badge.svg\" alt=\"Open In Colab\"/></a>"
      ]
    },
    {
      "cell_type": "code",
      "execution_count": 64,
      "metadata": {
        "colab": {
          "base_uri": "https://localhost:8080/"
        },
        "id": "T3IqTtN01bLx",
        "outputId": "4d9a0e51-494e-48b0-8679-9c0221391efa"
      },
      "outputs": [
        {
          "output_type": "stream",
          "name": "stdout",
          "text": [
            "Collecting es-core-news-lg==3.7.0\n",
            "  Downloading https://github.com/explosion/spacy-models/releases/download/es_core_news_lg-3.7.0/es_core_news_lg-3.7.0-py3-none-any.whl (568.0 MB)\n",
            "\u001b[2K     \u001b[90m━━━━━━━━━━━━━━━━━━━━━━━━━━━━━━━━━━━━━━━━\u001b[0m \u001b[32m568.0/568.0 MB\u001b[0m \u001b[31m707.6 kB/s\u001b[0m eta \u001b[36m0:00:00\u001b[0m\n",
            "\u001b[?25hRequirement already satisfied: spacy<3.8.0,>=3.7.0 in /usr/local/lib/python3.10/dist-packages (from es-core-news-lg==3.7.0) (3.7.5)\n",
            "Requirement already satisfied: spacy-legacy<3.1.0,>=3.0.11 in /usr/local/lib/python3.10/dist-packages (from spacy<3.8.0,>=3.7.0->es-core-news-lg==3.7.0) (3.0.12)\n",
            "Requirement already satisfied: spacy-loggers<2.0.0,>=1.0.0 in /usr/local/lib/python3.10/dist-packages (from spacy<3.8.0,>=3.7.0->es-core-news-lg==3.7.0) (1.0.5)\n",
            "Requirement already satisfied: murmurhash<1.1.0,>=0.28.0 in /usr/local/lib/python3.10/dist-packages (from spacy<3.8.0,>=3.7.0->es-core-news-lg==3.7.0) (1.0.10)\n",
            "Requirement already satisfied: cymem<2.1.0,>=2.0.2 in /usr/local/lib/python3.10/dist-packages (from spacy<3.8.0,>=3.7.0->es-core-news-lg==3.7.0) (2.0.8)\n",
            "Requirement already satisfied: preshed<3.1.0,>=3.0.2 in /usr/local/lib/python3.10/dist-packages (from spacy<3.8.0,>=3.7.0->es-core-news-lg==3.7.0) (3.0.9)\n",
            "Requirement already satisfied: thinc<8.3.0,>=8.2.2 in /usr/local/lib/python3.10/dist-packages (from spacy<3.8.0,>=3.7.0->es-core-news-lg==3.7.0) (8.2.5)\n",
            "Requirement already satisfied: wasabi<1.2.0,>=0.9.1 in /usr/local/lib/python3.10/dist-packages (from spacy<3.8.0,>=3.7.0->es-core-news-lg==3.7.0) (1.1.3)\n",
            "Requirement already satisfied: srsly<3.0.0,>=2.4.3 in /usr/local/lib/python3.10/dist-packages (from spacy<3.8.0,>=3.7.0->es-core-news-lg==3.7.0) (2.4.8)\n",
            "Requirement already satisfied: catalogue<2.1.0,>=2.0.6 in /usr/local/lib/python3.10/dist-packages (from spacy<3.8.0,>=3.7.0->es-core-news-lg==3.7.0) (2.0.10)\n",
            "Requirement already satisfied: weasel<0.5.0,>=0.1.0 in /usr/local/lib/python3.10/dist-packages (from spacy<3.8.0,>=3.7.0->es-core-news-lg==3.7.0) (0.4.1)\n",
            "Requirement already satisfied: typer<1.0.0,>=0.3.0 in /usr/local/lib/python3.10/dist-packages (from spacy<3.8.0,>=3.7.0->es-core-news-lg==3.7.0) (0.12.5)\n",
            "Requirement already satisfied: tqdm<5.0.0,>=4.38.0 in /usr/local/lib/python3.10/dist-packages (from spacy<3.8.0,>=3.7.0->es-core-news-lg==3.7.0) (4.66.5)\n",
            "Requirement already satisfied: requests<3.0.0,>=2.13.0 in /usr/local/lib/python3.10/dist-packages (from spacy<3.8.0,>=3.7.0->es-core-news-lg==3.7.0) (2.32.3)\n",
            "Requirement already satisfied: pydantic!=1.8,!=1.8.1,<3.0.0,>=1.7.4 in /usr/local/lib/python3.10/dist-packages (from spacy<3.8.0,>=3.7.0->es-core-news-lg==3.7.0) (2.9.2)\n",
            "Requirement already satisfied: jinja2 in /usr/local/lib/python3.10/dist-packages (from spacy<3.8.0,>=3.7.0->es-core-news-lg==3.7.0) (3.1.4)\n",
            "Requirement already satisfied: setuptools in /usr/local/lib/python3.10/dist-packages (from spacy<3.8.0,>=3.7.0->es-core-news-lg==3.7.0) (71.0.4)\n",
            "Requirement already satisfied: packaging>=20.0 in /usr/local/lib/python3.10/dist-packages (from spacy<3.8.0,>=3.7.0->es-core-news-lg==3.7.0) (24.1)\n",
            "Requirement already satisfied: langcodes<4.0.0,>=3.2.0 in /usr/local/lib/python3.10/dist-packages (from spacy<3.8.0,>=3.7.0->es-core-news-lg==3.7.0) (3.4.1)\n",
            "Requirement already satisfied: numpy>=1.19.0 in /usr/local/lib/python3.10/dist-packages (from spacy<3.8.0,>=3.7.0->es-core-news-lg==3.7.0) (1.26.4)\n",
            "Requirement already satisfied: language-data>=1.2 in /usr/local/lib/python3.10/dist-packages (from langcodes<4.0.0,>=3.2.0->spacy<3.8.0,>=3.7.0->es-core-news-lg==3.7.0) (1.2.0)\n",
            "Requirement already satisfied: annotated-types>=0.6.0 in /usr/local/lib/python3.10/dist-packages (from pydantic!=1.8,!=1.8.1,<3.0.0,>=1.7.4->spacy<3.8.0,>=3.7.0->es-core-news-lg==3.7.0) (0.7.0)\n",
            "Requirement already satisfied: pydantic-core==2.23.4 in /usr/local/lib/python3.10/dist-packages (from pydantic!=1.8,!=1.8.1,<3.0.0,>=1.7.4->spacy<3.8.0,>=3.7.0->es-core-news-lg==3.7.0) (2.23.4)\n",
            "Requirement already satisfied: typing-extensions>=4.6.1 in /usr/local/lib/python3.10/dist-packages (from pydantic!=1.8,!=1.8.1,<3.0.0,>=1.7.4->spacy<3.8.0,>=3.7.0->es-core-news-lg==3.7.0) (4.12.2)\n",
            "Requirement already satisfied: charset-normalizer<4,>=2 in /usr/local/lib/python3.10/dist-packages (from requests<3.0.0,>=2.13.0->spacy<3.8.0,>=3.7.0->es-core-news-lg==3.7.0) (3.3.2)\n",
            "Requirement already satisfied: idna<4,>=2.5 in /usr/local/lib/python3.10/dist-packages (from requests<3.0.0,>=2.13.0->spacy<3.8.0,>=3.7.0->es-core-news-lg==3.7.0) (3.10)\n",
            "Requirement already satisfied: urllib3<3,>=1.21.1 in /usr/local/lib/python3.10/dist-packages (from requests<3.0.0,>=2.13.0->spacy<3.8.0,>=3.7.0->es-core-news-lg==3.7.0) (2.2.3)\n",
            "Requirement already satisfied: certifi>=2017.4.17 in /usr/local/lib/python3.10/dist-packages (from requests<3.0.0,>=2.13.0->spacy<3.8.0,>=3.7.0->es-core-news-lg==3.7.0) (2024.8.30)\n",
            "Requirement already satisfied: blis<0.8.0,>=0.7.8 in /usr/local/lib/python3.10/dist-packages (from thinc<8.3.0,>=8.2.2->spacy<3.8.0,>=3.7.0->es-core-news-lg==3.7.0) (0.7.11)\n",
            "Requirement already satisfied: confection<1.0.0,>=0.0.1 in /usr/local/lib/python3.10/dist-packages (from thinc<8.3.0,>=8.2.2->spacy<3.8.0,>=3.7.0->es-core-news-lg==3.7.0) (0.1.5)\n",
            "Requirement already satisfied: click>=8.0.0 in /usr/local/lib/python3.10/dist-packages (from typer<1.0.0,>=0.3.0->spacy<3.8.0,>=3.7.0->es-core-news-lg==3.7.0) (8.1.7)\n",
            "Requirement already satisfied: shellingham>=1.3.0 in /usr/local/lib/python3.10/dist-packages (from typer<1.0.0,>=0.3.0->spacy<3.8.0,>=3.7.0->es-core-news-lg==3.7.0) (1.5.4)\n",
            "Requirement already satisfied: rich>=10.11.0 in /usr/local/lib/python3.10/dist-packages (from typer<1.0.0,>=0.3.0->spacy<3.8.0,>=3.7.0->es-core-news-lg==3.7.0) (13.9.1)\n",
            "Requirement already satisfied: cloudpathlib<1.0.0,>=0.7.0 in /usr/local/lib/python3.10/dist-packages (from weasel<0.5.0,>=0.1.0->spacy<3.8.0,>=3.7.0->es-core-news-lg==3.7.0) (0.19.0)\n",
            "Requirement already satisfied: smart-open<8.0.0,>=5.2.1 in /usr/local/lib/python3.10/dist-packages (from weasel<0.5.0,>=0.1.0->spacy<3.8.0,>=3.7.0->es-core-news-lg==3.7.0) (7.0.4)\n",
            "Requirement already satisfied: MarkupSafe>=2.0 in /usr/local/lib/python3.10/dist-packages (from jinja2->spacy<3.8.0,>=3.7.0->es-core-news-lg==3.7.0) (2.1.5)\n",
            "Requirement already satisfied: marisa-trie>=0.7.7 in /usr/local/lib/python3.10/dist-packages (from language-data>=1.2->langcodes<4.0.0,>=3.2.0->spacy<3.8.0,>=3.7.0->es-core-news-lg==3.7.0) (1.2.0)\n",
            "Requirement already satisfied: markdown-it-py>=2.2.0 in /usr/local/lib/python3.10/dist-packages (from rich>=10.11.0->typer<1.0.0,>=0.3.0->spacy<3.8.0,>=3.7.0->es-core-news-lg==3.7.0) (3.0.0)\n",
            "Requirement already satisfied: pygments<3.0.0,>=2.13.0 in /usr/local/lib/python3.10/dist-packages (from rich>=10.11.0->typer<1.0.0,>=0.3.0->spacy<3.8.0,>=3.7.0->es-core-news-lg==3.7.0) (2.18.0)\n",
            "Requirement already satisfied: wrapt in /usr/local/lib/python3.10/dist-packages (from smart-open<8.0.0,>=5.2.1->weasel<0.5.0,>=0.1.0->spacy<3.8.0,>=3.7.0->es-core-news-lg==3.7.0) (1.16.0)\n",
            "Requirement already satisfied: mdurl~=0.1 in /usr/local/lib/python3.10/dist-packages (from markdown-it-py>=2.2.0->rich>=10.11.0->typer<1.0.0,>=0.3.0->spacy<3.8.0,>=3.7.0->es-core-news-lg==3.7.0) (0.1.2)\n",
            "\u001b[38;5;2m✔ Download and installation successful\u001b[0m\n",
            "You can now load the package via spacy.load('es_core_news_lg')\n",
            "\u001b[38;5;3m⚠ Restart to reload dependencies\u001b[0m\n",
            "If you are in a Jupyter or Colab notebook, you may need to restart Python in\n",
            "order to load all the package's dependencies. You can do this by selecting the\n",
            "'Restart kernel' or 'Restart runtime' option.\n"
          ]
        }
      ],
      "source": [
        "import pandas as pd\n",
        "import nltk  # Natural Language Toolkit\n",
        "import numpy as np\n",
        "import spacy\n",
        "import re #regular expressions\n",
        "import string\n",
        "from sklearn.feature_extraction.text import TfidfVectorizer\n",
        "from sklearn.feature_extraction import text #para los stop_word\n",
        "\n",
        "\n",
        "#Spacy , español\n",
        "!python -m spacy download es_core_news_lg"
      ]
    },
    {
      "cell_type": "code",
      "source": [
        "#Cargando el archivo con el dataset\n",
        "dataOrigen=pd.read_csv('IMDB Dataset SPANISH.csv')\n",
        "columns_remove = ['Unnamed: 0', 'review_en', 'sentiment']\n",
        "dataOrigen=dataOrigen.drop(columns_remove ,axis=1)\n",
        "#Remove duplicated\n",
        "dataOrigen.drop_duplicates(inplace=True)"
      ],
      "metadata": {
        "id": "DlOSWSPS2k6r"
      },
      "execution_count": 72,
      "outputs": []
    },
    {
      "cell_type": "code",
      "source": [
        "#Recortando el data set ya que por el tiempo de la presentación no se puede modelar toda la data\n",
        "\n",
        "# Determinar el tamaño máximo deseado en bytes\n",
        "max_size = 30 * 1024 * 1024  # 20 MB en bytes\n",
        "\n",
        "# Calcular el tamaño promedio por fila\n",
        "row_size = dataOrigen.memory_usage(deep=True).sum() / len(dataOrigen)  # Tamaño promedio por fila en bytes\n",
        "\n",
        "# Calcular cuántas filas necesitas para alcanzar aproximadamente 20 MB\n",
        "chunk_size = int(max_size // row_size)  # Número de filas por chunk\n",
        "\n",
        "# Dividir el DataFrame y guardar las partes\n",
        "for i in range(0, len(dataOrigen), chunk_size):\n",
        "    data = dataOrigen.iloc[i:i + chunk_size]"
      ],
      "metadata": {
        "id": "yzZ5BH8X9T-Q"
      },
      "execution_count": 73,
      "outputs": []
    },
    {
      "cell_type": "code",
      "source": [
        "print(data.value_counts('sentimiento'))\n",
        "print(' ')\n",
        "print('nulos')\n",
        "print(data.isnull().sum())"
      ],
      "metadata": {
        "colab": {
          "base_uri": "https://localhost:8080/"
        },
        "id": "DTlChGrA3Mjb",
        "outputId": "3827300b-c274-49d7-d90e-a43a798c833d"
      },
      "execution_count": 74,
      "outputs": [
        {
          "output_type": "stream",
          "name": "stdout",
          "text": [
            "sentimiento\n",
            "positivo    3734\n",
            "negativo    3649\n",
            "Name: count, dtype: int64\n",
            " \n",
            "nulos\n",
            "review_es      0\n",
            "sentimiento    0\n",
            "dtype: int64\n"
          ]
        }
      ]
    },
    {
      "cell_type": "code",
      "source": [
        "data.head()"
      ],
      "metadata": {
        "colab": {
          "base_uri": "https://localhost:8080/",
          "height": 204
        },
        "id": "lUk3-eyO3QVt",
        "outputId": "b95cc716-7253-48b0-f668-8ad4b63094e8"
      },
      "execution_count": 75,
      "outputs": [
        {
          "output_type": "execute_result",
          "data": {
            "text/plain": [
              "                                               review_es sentimiento\n",
              "42490  Vi esta película anoche, una sátira de los pro...    negativo\n",
              "42491  Maniratnam, quien en la India, a menudo se com...    negativo\n",
              "42492  Freeway Killer, es un loco que dispara a la ge...    negativo\n",
              "42493  Película muy lenta, aburrida, enigmática. Tal ...    negativo\n",
              "42494  Cuéntame como alguien que está feliz de no ver...    positivo"
            ],
            "text/html": [
              "\n",
              "  <div id=\"df-8128367b-298e-431d-a47b-5611e7649a8f\" class=\"colab-df-container\">\n",
              "    <div>\n",
              "<style scoped>\n",
              "    .dataframe tbody tr th:only-of-type {\n",
              "        vertical-align: middle;\n",
              "    }\n",
              "\n",
              "    .dataframe tbody tr th {\n",
              "        vertical-align: top;\n",
              "    }\n",
              "\n",
              "    .dataframe thead th {\n",
              "        text-align: right;\n",
              "    }\n",
              "</style>\n",
              "<table border=\"1\" class=\"dataframe\">\n",
              "  <thead>\n",
              "    <tr style=\"text-align: right;\">\n",
              "      <th></th>\n",
              "      <th>review_es</th>\n",
              "      <th>sentimiento</th>\n",
              "    </tr>\n",
              "  </thead>\n",
              "  <tbody>\n",
              "    <tr>\n",
              "      <th>42490</th>\n",
              "      <td>Vi esta película anoche, una sátira de los pro...</td>\n",
              "      <td>negativo</td>\n",
              "    </tr>\n",
              "    <tr>\n",
              "      <th>42491</th>\n",
              "      <td>Maniratnam, quien en la India, a menudo se com...</td>\n",
              "      <td>negativo</td>\n",
              "    </tr>\n",
              "    <tr>\n",
              "      <th>42492</th>\n",
              "      <td>Freeway Killer, es un loco que dispara a la ge...</td>\n",
              "      <td>negativo</td>\n",
              "    </tr>\n",
              "    <tr>\n",
              "      <th>42493</th>\n",
              "      <td>Película muy lenta, aburrida, enigmática. Tal ...</td>\n",
              "      <td>negativo</td>\n",
              "    </tr>\n",
              "    <tr>\n",
              "      <th>42494</th>\n",
              "      <td>Cuéntame como alguien que está feliz de no ver...</td>\n",
              "      <td>positivo</td>\n",
              "    </tr>\n",
              "  </tbody>\n",
              "</table>\n",
              "</div>\n",
              "    <div class=\"colab-df-buttons\">\n",
              "\n",
              "  <div class=\"colab-df-container\">\n",
              "    <button class=\"colab-df-convert\" onclick=\"convertToInteractive('df-8128367b-298e-431d-a47b-5611e7649a8f')\"\n",
              "            title=\"Convert this dataframe to an interactive table.\"\n",
              "            style=\"display:none;\">\n",
              "\n",
              "  <svg xmlns=\"http://www.w3.org/2000/svg\" height=\"24px\" viewBox=\"0 -960 960 960\">\n",
              "    <path d=\"M120-120v-720h720v720H120Zm60-500h600v-160H180v160Zm220 220h160v-160H400v160Zm0 220h160v-160H400v160ZM180-400h160v-160H180v160Zm440 0h160v-160H620v160ZM180-180h160v-160H180v160Zm440 0h160v-160H620v160Z\"/>\n",
              "  </svg>\n",
              "    </button>\n",
              "\n",
              "  <style>\n",
              "    .colab-df-container {\n",
              "      display:flex;\n",
              "      gap: 12px;\n",
              "    }\n",
              "\n",
              "    .colab-df-convert {\n",
              "      background-color: #E8F0FE;\n",
              "      border: none;\n",
              "      border-radius: 50%;\n",
              "      cursor: pointer;\n",
              "      display: none;\n",
              "      fill: #1967D2;\n",
              "      height: 32px;\n",
              "      padding: 0 0 0 0;\n",
              "      width: 32px;\n",
              "    }\n",
              "\n",
              "    .colab-df-convert:hover {\n",
              "      background-color: #E2EBFA;\n",
              "      box-shadow: 0px 1px 2px rgba(60, 64, 67, 0.3), 0px 1px 3px 1px rgba(60, 64, 67, 0.15);\n",
              "      fill: #174EA6;\n",
              "    }\n",
              "\n",
              "    .colab-df-buttons div {\n",
              "      margin-bottom: 4px;\n",
              "    }\n",
              "\n",
              "    [theme=dark] .colab-df-convert {\n",
              "      background-color: #3B4455;\n",
              "      fill: #D2E3FC;\n",
              "    }\n",
              "\n",
              "    [theme=dark] .colab-df-convert:hover {\n",
              "      background-color: #434B5C;\n",
              "      box-shadow: 0px 1px 3px 1px rgba(0, 0, 0, 0.15);\n",
              "      filter: drop-shadow(0px 1px 2px rgba(0, 0, 0, 0.3));\n",
              "      fill: #FFFFFF;\n",
              "    }\n",
              "  </style>\n",
              "\n",
              "    <script>\n",
              "      const buttonEl =\n",
              "        document.querySelector('#df-8128367b-298e-431d-a47b-5611e7649a8f button.colab-df-convert');\n",
              "      buttonEl.style.display =\n",
              "        google.colab.kernel.accessAllowed ? 'block' : 'none';\n",
              "\n",
              "      async function convertToInteractive(key) {\n",
              "        const element = document.querySelector('#df-8128367b-298e-431d-a47b-5611e7649a8f');\n",
              "        const dataTable =\n",
              "          await google.colab.kernel.invokeFunction('convertToInteractive',\n",
              "                                                    [key], {});\n",
              "        if (!dataTable) return;\n",
              "\n",
              "        const docLinkHtml = 'Like what you see? Visit the ' +\n",
              "          '<a target=\"_blank\" href=https://colab.research.google.com/notebooks/data_table.ipynb>data table notebook</a>'\n",
              "          + ' to learn more about interactive tables.';\n",
              "        element.innerHTML = '';\n",
              "        dataTable['output_type'] = 'display_data';\n",
              "        await google.colab.output.renderOutput(dataTable, element);\n",
              "        const docLink = document.createElement('div');\n",
              "        docLink.innerHTML = docLinkHtml;\n",
              "        element.appendChild(docLink);\n",
              "      }\n",
              "    </script>\n",
              "  </div>\n",
              "\n",
              "\n",
              "<div id=\"df-c6aa13dc-3e1f-4147-a9ee-163701700b58\">\n",
              "  <button class=\"colab-df-quickchart\" onclick=\"quickchart('df-c6aa13dc-3e1f-4147-a9ee-163701700b58')\"\n",
              "            title=\"Suggest charts\"\n",
              "            style=\"display:none;\">\n",
              "\n",
              "<svg xmlns=\"http://www.w3.org/2000/svg\" height=\"24px\"viewBox=\"0 0 24 24\"\n",
              "     width=\"24px\">\n",
              "    <g>\n",
              "        <path d=\"M19 3H5c-1.1 0-2 .9-2 2v14c0 1.1.9 2 2 2h14c1.1 0 2-.9 2-2V5c0-1.1-.9-2-2-2zM9 17H7v-7h2v7zm4 0h-2V7h2v10zm4 0h-2v-4h2v4z\"/>\n",
              "    </g>\n",
              "</svg>\n",
              "  </button>\n",
              "\n",
              "<style>\n",
              "  .colab-df-quickchart {\n",
              "      --bg-color: #E8F0FE;\n",
              "      --fill-color: #1967D2;\n",
              "      --hover-bg-color: #E2EBFA;\n",
              "      --hover-fill-color: #174EA6;\n",
              "      --disabled-fill-color: #AAA;\n",
              "      --disabled-bg-color: #DDD;\n",
              "  }\n",
              "\n",
              "  [theme=dark] .colab-df-quickchart {\n",
              "      --bg-color: #3B4455;\n",
              "      --fill-color: #D2E3FC;\n",
              "      --hover-bg-color: #434B5C;\n",
              "      --hover-fill-color: #FFFFFF;\n",
              "      --disabled-bg-color: #3B4455;\n",
              "      --disabled-fill-color: #666;\n",
              "  }\n",
              "\n",
              "  .colab-df-quickchart {\n",
              "    background-color: var(--bg-color);\n",
              "    border: none;\n",
              "    border-radius: 50%;\n",
              "    cursor: pointer;\n",
              "    display: none;\n",
              "    fill: var(--fill-color);\n",
              "    height: 32px;\n",
              "    padding: 0;\n",
              "    width: 32px;\n",
              "  }\n",
              "\n",
              "  .colab-df-quickchart:hover {\n",
              "    background-color: var(--hover-bg-color);\n",
              "    box-shadow: 0 1px 2px rgba(60, 64, 67, 0.3), 0 1px 3px 1px rgba(60, 64, 67, 0.15);\n",
              "    fill: var(--button-hover-fill-color);\n",
              "  }\n",
              "\n",
              "  .colab-df-quickchart-complete:disabled,\n",
              "  .colab-df-quickchart-complete:disabled:hover {\n",
              "    background-color: var(--disabled-bg-color);\n",
              "    fill: var(--disabled-fill-color);\n",
              "    box-shadow: none;\n",
              "  }\n",
              "\n",
              "  .colab-df-spinner {\n",
              "    border: 2px solid var(--fill-color);\n",
              "    border-color: transparent;\n",
              "    border-bottom-color: var(--fill-color);\n",
              "    animation:\n",
              "      spin 1s steps(1) infinite;\n",
              "  }\n",
              "\n",
              "  @keyframes spin {\n",
              "    0% {\n",
              "      border-color: transparent;\n",
              "      border-bottom-color: var(--fill-color);\n",
              "      border-left-color: var(--fill-color);\n",
              "    }\n",
              "    20% {\n",
              "      border-color: transparent;\n",
              "      border-left-color: var(--fill-color);\n",
              "      border-top-color: var(--fill-color);\n",
              "    }\n",
              "    30% {\n",
              "      border-color: transparent;\n",
              "      border-left-color: var(--fill-color);\n",
              "      border-top-color: var(--fill-color);\n",
              "      border-right-color: var(--fill-color);\n",
              "    }\n",
              "    40% {\n",
              "      border-color: transparent;\n",
              "      border-right-color: var(--fill-color);\n",
              "      border-top-color: var(--fill-color);\n",
              "    }\n",
              "    60% {\n",
              "      border-color: transparent;\n",
              "      border-right-color: var(--fill-color);\n",
              "    }\n",
              "    80% {\n",
              "      border-color: transparent;\n",
              "      border-right-color: var(--fill-color);\n",
              "      border-bottom-color: var(--fill-color);\n",
              "    }\n",
              "    90% {\n",
              "      border-color: transparent;\n",
              "      border-bottom-color: var(--fill-color);\n",
              "    }\n",
              "  }\n",
              "</style>\n",
              "\n",
              "  <script>\n",
              "    async function quickchart(key) {\n",
              "      const quickchartButtonEl =\n",
              "        document.querySelector('#' + key + ' button');\n",
              "      quickchartButtonEl.disabled = true;  // To prevent multiple clicks.\n",
              "      quickchartButtonEl.classList.add('colab-df-spinner');\n",
              "      try {\n",
              "        const charts = await google.colab.kernel.invokeFunction(\n",
              "            'suggestCharts', [key], {});\n",
              "      } catch (error) {\n",
              "        console.error('Error during call to suggestCharts:', error);\n",
              "      }\n",
              "      quickchartButtonEl.classList.remove('colab-df-spinner');\n",
              "      quickchartButtonEl.classList.add('colab-df-quickchart-complete');\n",
              "    }\n",
              "    (() => {\n",
              "      let quickchartButtonEl =\n",
              "        document.querySelector('#df-c6aa13dc-3e1f-4147-a9ee-163701700b58 button');\n",
              "      quickchartButtonEl.style.display =\n",
              "        google.colab.kernel.accessAllowed ? 'block' : 'none';\n",
              "    })();\n",
              "  </script>\n",
              "</div>\n",
              "\n",
              "    </div>\n",
              "  </div>\n"
            ],
            "application/vnd.google.colaboratory.intrinsic+json": {
              "type": "dataframe",
              "variable_name": "data",
              "summary": "{\n  \"name\": \"data\",\n  \"rows\": 7383,\n  \"fields\": [\n    {\n      \"column\": \"review_es\",\n      \"properties\": {\n        \"dtype\": \"string\",\n        \"num_unique_values\": 7383,\n        \"samples\": [\n          \"\\u00a1Me encant\\u00f3! \\u00bfQu\\u00e9 no es as\\u00ed? - Tienes a tus suburbios, tienes tus zombis, tienes tus problemas familiares, obtuviste tus dilemas sociales, tienes una buena carne de estilo retro-1950 que com\\u00eda bajo la clase en la bah\\u00eda por un inquietante preocupado Sobre si son la siguiente corteza superior de comida. No se pod\\u00eda pedir m\\u00e1s. El castino es excelente. Carrie Ann Moss es la perfecci\\u00f3n absoluta como una ama de casa de supremo social debutante. Ella es tanto sin sentido, como de conspiraci\\u00f3n criminalmente. El sue\\u00f1o de cada compa\\u00f1ero. K'sun es realmente genial, ya que el hijo que intenta ser lo m\\u00e1s normal posible en esta existencia de pesadilla, y de alguna manera sucesivamente. Es una presencia de pantalla genuina. Muy fotog\\u00e9nico, y natural. Sin nombrarlos a todos, el resto del elenco es maravilloso. Henry Czerny juega a un polic\\u00eda sospechoso con instintos afiliados y poco despertamiento como si fuera su persona cotidiana. Billy Connolly es delicioso como Fido. Un buen actor: Deseo que haya desempe\\u00f1ado el papel de t\\u00edtulo en \\\"Braveheart\\\", con la direcci\\u00f3n de Gibson. Mi sentido es que su William Wallace habr\\u00eda estado m\\u00e1s cerca del personaje real. Su Fido est\\u00e1 contenido, pero accesible. Un buen toque. En corta, un gran y maravilloso asquera sat\\u00edrico en moral, valores, pinzas sociales, sentimientos, crecimiento, afrontar en tiempos inciertos y ajustes compensatorios a condiciones imposibles. Un verdadero verdadero show.\",\n          \"Jim Carrey brilla en esta hermosa pel\\u00edcula.Esta es una de mis pel\\u00edculas favoritas.Le\\u00ed todo sobre la fabricaci\\u00f3n y pens\\u00e9 que era incre\\u00edble c\\u00f3mo lo hizo.No puedo esperar hasta que esto salga en DVD.Vi esto en los teatros tantas veces, ni siquiera puedo contar c\\u00f3mo los tiempos lo he visto.\",\n          \"Al final, los cr\\u00e9ditos de las \\\"sombras\\\", despu\\u00e9s de que leemos \\\"dirigidas por John Cassavetes\\\", se pueden ver algunas letras blancas en la pantalla: \\\"La pel\\u00edcula que acabas de ver es improvisada\\\", dicen. Siempre estoy persiguiendo el hecho de que las palabras son tan importantes en las pel\\u00edculas, ya que los cineastas comenzaron a usarlos porque, b\\u00e1sicamente, no hay pel\\u00edcula sin un gui\\u00f3n y muchas otras razones. Cassavetes persigui\\u00f3 el mismo objetivo, y crey\\u00f3 en la libertad de las palabras; \\\"Sombras\\\" es el ejemplo perfecto. Es una pel\\u00edcula sin personajes principales reales, sin l\\u00edneas de parcela principales reales; Es en su mayor\\u00eda personas en diferentes situaciones, hablando. S\\u00ed, algunas de las situaciones est\\u00e1n conectadas, pero los cassavetes, aparentemente siempre, siempre para llegar a hablar, utiliza una t\\u00e9cnica de avance r\\u00e1pido cuando los personajes van a alg\\u00fan lugar o escapando de alguien y no est\\u00e1n hablando. Las aparezas son todo en esta pel\\u00edcula. Por ejemplo, hay una puntuaci\\u00f3n brillante, llena de influencias de jazz y un mont\\u00f3n de solos fant\\u00e1sticos, y hay un personaje que dice que es un m\\u00fasico de jazz y toca la trompeta (Ben, todos los nombres de los personajes son los mismos nombres de los actores \\\"). Sin embargo, nunca lo vemos tocar la trompeta o atascar con una banda; Ni siquiera habla de m\\u00fasica y simplemente vaga con sus amigos alrededor de la ciudad. Hablan mucho, y sobre cualquier cosa que est\\u00e9 en su mente; Ir de lo inteligente que cada uno de ellos es el an\\u00e1lisis hilarante de una escultura \\\". Las sombras\\\" son divertidas en sus referencias intelectuales en las partes como la anterior, porque estos amigos no se cultivan. El \\u00fanico car\\u00e1cter femenino importante en la pel\\u00edcula (Lelia), sin embargo, quiere ser un intelectual. Pero, de nuevo, tiene una conversaci\\u00f3n muy interesante con un hombre mayor en una fiesta, sobre un libro que est\\u00e1 tratando de escribir, y sobre c\\u00f3mo enfrentar la realidad; Pero nada que ver con ser intelectual. En ese mismo partido, una mujer est\\u00e1 haciendo una declaraci\\u00f3n intelectual, llena de complejidad, y le pide a un chico a su lado: \\\"\\u00bfEst\\u00e1 usted de acuerdo?\\\". \\\"S\\u00ed\\\", dice, pero puedes decir que no sabe de lo que est\\u00e1 hablando. Otro personaje, un cantante (Hugh), habla de sus d\\u00edas de gloria en ocasiones, y lo vemos que se desempe\\u00f1amos solo una vez; Pero no hay referencias a la industria musical all\\u00ed. El enfoque de los cassavetes es la relaci\\u00f3n del cantante con su gerente (Rupert), lo que la mayor\\u00eda del tiempo involucra chats sobre cosas triviales y no conversaciones \\\"musicales\\\" reales. As\\u00ed que el importante trato del jugador de trompeta en \\\"Shadows\\\" es el momento en que pasa con sus amigos; La Girl Intellectual Wannabe es su forma de manejar relaciones rom\\u00e1nticas (uno de los puntos fuertes de la pel\\u00edcula) y el cantante es el v\\u00ednculo con su gerente ... apariciones. La raz\\u00f3n por la que las actuaciones no son importantes en esta pel\\u00edcula es simple. Los cassavetes necesitaban personas que podr\\u00edan dominar la improvisaci\\u00f3n, sin importarlo si en realidad eran buenos. Creo que algunos de ellos no son, pero seguramente saben c\\u00f3mo improvisarse en una escena, y puede notar lo bien que lo hacen. \\\"Sombras\\\" no se trata de int\\u00e9rpretes; Se trata de una forma de hacer el cine, bas\\u00e1ndose en la magia de la conversaci\\u00f3n; Y all\\u00ed se pod\\u00eda decir que las actuaciones significan algo. Es por eso que en cada conversaci\\u00f3n, la c\\u00e1mara es como un acosador, constantemente a los ojos de cada personaje, buscando constantemente las expresiones que vienen con el habla natural. Hay una escena donde el trompeta y sus amigos est\\u00e1n tratando de recoger a algunas chicas. Son tres, por lo que cada uno de ellos se encuentra junto a una ni\\u00f1a (las chicas tienen tres dos) en tres mesas diferentes. Todos hablan al mismo tiempo y la c\\u00e1mara dispara a trav\\u00e9s de la mesa, y a veces los amigos se miran el uno al otro, mientras dicen lo que dicen, es natural.\"\n        ],\n        \"semantic_type\": \"\",\n        \"description\": \"\"\n      }\n    },\n    {\n      \"column\": \"sentimiento\",\n      \"properties\": {\n        \"dtype\": \"category\",\n        \"num_unique_values\": 2,\n        \"samples\": [\n          \"positivo\",\n          \"negativo\"\n        ],\n        \"semantic_type\": \"\",\n        \"description\": \"\"\n      }\n    }\n  ]\n}"
            }
          },
          "metadata": {},
          "execution_count": 75
        }
      ]
    },
    {
      "cell_type": "markdown",
      "source": [
        "# Limpieza de Datos\n"
      ],
      "metadata": {
        "id": "-X1Jy0s53nQe"
      }
    },
    {
      "cell_type": "code",
      "source": [
        "def clean_text(text):\n",
        "    # Convertir el texto a minúsculas\n",
        "    text = text.lower()\n",
        "\n",
        "    # Eliminar URLs\n",
        "    text = re.sub(r'http:?\\S+', '', text)\n",
        "\n",
        "    # Eliminar caracteres de puntuación\n",
        "    text = re.sub(\"[%s]\" % re.escape(string.punctuation), \" \", text)\n",
        "\n",
        "    # Eliminar caracteres no ASCII, pero incluyendo caracteres del idioma español\n",
        "    text = re.sub(\"([^\\x00-\\x7F\\u00C0-\\u017F])+\", \" \", text)\n",
        "\n",
        "    # Eliminar espacios extra y palabras con menos de 2 caracteres (excepto 'no')\n",
        "    filter = [palabra for palabra in text.split() if (len(palabra) > 2 or palabra=='no') and palabra.isalpha() ]\n",
        "    text = \" \".join(filter)\n",
        "\n",
        "    return text\n",
        "\n",
        "# ejecutra la función , como una función anónima\n",
        "data.loc[:,'review_es_clean'] = data['review_es'].apply(lambda x: clean_text(x))\n"
      ],
      "metadata": {
        "colab": {
          "base_uri": "https://localhost:8080/"
        },
        "id": "stagr5-93s28",
        "outputId": "13304989-b40f-4421-eb08-eeff956ff119"
      },
      "execution_count": 76,
      "outputs": [
        {
          "output_type": "stream",
          "name": "stderr",
          "text": [
            "<ipython-input-76-9a5dc59aa21f>:21: SettingWithCopyWarning: \n",
            "A value is trying to be set on a copy of a slice from a DataFrame.\n",
            "Try using .loc[row_indexer,col_indexer] = value instead\n",
            "\n",
            "See the caveats in the documentation: https://pandas.pydata.org/pandas-docs/stable/user_guide/indexing.html#returning-a-view-versus-a-copy\n",
            "  data.loc[:,'review_es_clean'] = data['review_es'].apply(lambda x: clean_text(x))\n"
          ]
        }
      ]
    },
    {
      "cell_type": "markdown",
      "source": [
        "# Eliminando StopWords"
      ],
      "metadata": {
        "id": "PdIHVIHP4Fay"
      }
    },
    {
      "cell_type": "code",
      "source": [
        "from nltk.corpus import stopwords\n",
        "nltk.download('stopwords')\n",
        "stop=list(stopwords.words(\"spanish\"))\n",
        "\n",
        "def remove_stopwords(text):\n",
        "    stopwords_esp = stopwords.words('spanish')\n",
        "    words = text.split()\n",
        "    text= [word for word in words if word not in stopwords_esp]\n",
        "    return \" \".join(text)\n",
        "data.loc[:,'review_es_clean']=data['review_es_clean'].apply(lambda x: remove_stopwords(x))"
      ],
      "metadata": {
        "colab": {
          "base_uri": "https://localhost:8080/"
        },
        "id": "BXnu13MH4Gls",
        "outputId": "2b4a2846-0c58-4a22-8551-860a34757f5f"
      },
      "execution_count": 77,
      "outputs": [
        {
          "output_type": "stream",
          "name": "stderr",
          "text": [
            "[nltk_data] Downloading package stopwords to /root/nltk_data...\n",
            "[nltk_data]   Package stopwords is already up-to-date!\n"
          ]
        }
      ]
    },
    {
      "cell_type": "markdown",
      "source": [
        "# Lematización"
      ],
      "metadata": {
        "id": "tFbdrqvP4kXP"
      }
    },
    {
      "cell_type": "code",
      "source": [
        "nlp = spacy.load('es_core_news_lg')\n",
        "\n",
        "def lemmatization(text):\n",
        "  # Procesar el texto de entrada usando el modelo de spaCy\n",
        "  doc = nlp(text)\n",
        "\n",
        "  # Obtener la lematización de cada token (palabra) en el documento\n",
        "  lemas_fila = [token.lemma_ for token in doc]\n",
        "  text=' '.join(lemas_fila)\n",
        "  return ' '.join(lemas_fila)\n",
        "data['review_es_lemma']=data['review_es_clean'].apply(lambda x: lemmatization(x))"
      ],
      "metadata": {
        "colab": {
          "base_uri": "https://localhost:8080/"
        },
        "id": "XNq6lEYZ4m_R",
        "outputId": "2ebaee1a-3752-4f02-ba35-47f65a4906df"
      },
      "execution_count": 78,
      "outputs": [
        {
          "output_type": "stream",
          "name": "stderr",
          "text": [
            "<ipython-input-78-46753386d93c>:11: SettingWithCopyWarning: \n",
            "A value is trying to be set on a copy of a slice from a DataFrame.\n",
            "Try using .loc[row_indexer,col_indexer] = value instead\n",
            "\n",
            "See the caveats in the documentation: https://pandas.pydata.org/pandas-docs/stable/user_guide/indexing.html#returning-a-view-versus-a-copy\n",
            "  data['review_es_lemma']=data['review_es_clean'].apply(lambda x: lemmatization(x))\n"
          ]
        }
      ]
    },
    {
      "cell_type": "code",
      "source": [
        "data.head()"
      ],
      "metadata": {
        "colab": {
          "base_uri": "https://localhost:8080/",
          "height": 204
        },
        "id": "XY1IQ53v4rAJ",
        "outputId": "af3d5338-a5bd-4dae-8130-b7a747bb07fd"
      },
      "execution_count": 79,
      "outputs": [
        {
          "output_type": "execute_result",
          "data": {
            "text/plain": [
              "                                               review_es sentimiento  \\\n",
              "42490  Vi esta película anoche, una sátira de los pro...    negativo   \n",
              "42491  Maniratnam, quien en la India, a menudo se com...    negativo   \n",
              "42492  Freeway Killer, es un loco que dispara a la ge...    negativo   \n",
              "42493  Película muy lenta, aburrida, enigmática. Tal ...    negativo   \n",
              "42494  Cuéntame como alguien que está feliz de no ver...    positivo   \n",
              "\n",
              "                                         review_es_clean  \\\n",
              "42490  película anoche sátira programas estilo realid...   \n",
              "42491  maniratnam india menudo compara prominentes ci...   \n",
              "42492  freeway killer loco dispara gente autopista mi...   \n",
              "42493  película lenta aburrida enigmática tal vez tip...   \n",
              "42494  cuéntame alguien feliz ver ningún hastings epi...   \n",
              "\n",
              "                                         review_es_lemma  \n",
              "42490  película anoche sátira programa estilo realida...  \n",
              "42491  maniratnam india menudo comparar prominente ci...  \n",
              "42492  freeway killer loco disparar gente autopista m...  \n",
              "42493  película lento aburrido enigmático tal vez tip...  \n",
              "42494  cuéntamir alguien feliz ver ninguno hastings e...  "
            ],
            "text/html": [
              "\n",
              "  <div id=\"df-8d33e88d-9f10-4c53-9a80-60d4e902d4cd\" class=\"colab-df-container\">\n",
              "    <div>\n",
              "<style scoped>\n",
              "    .dataframe tbody tr th:only-of-type {\n",
              "        vertical-align: middle;\n",
              "    }\n",
              "\n",
              "    .dataframe tbody tr th {\n",
              "        vertical-align: top;\n",
              "    }\n",
              "\n",
              "    .dataframe thead th {\n",
              "        text-align: right;\n",
              "    }\n",
              "</style>\n",
              "<table border=\"1\" class=\"dataframe\">\n",
              "  <thead>\n",
              "    <tr style=\"text-align: right;\">\n",
              "      <th></th>\n",
              "      <th>review_es</th>\n",
              "      <th>sentimiento</th>\n",
              "      <th>review_es_clean</th>\n",
              "      <th>review_es_lemma</th>\n",
              "    </tr>\n",
              "  </thead>\n",
              "  <tbody>\n",
              "    <tr>\n",
              "      <th>42490</th>\n",
              "      <td>Vi esta película anoche, una sátira de los pro...</td>\n",
              "      <td>negativo</td>\n",
              "      <td>película anoche sátira programas estilo realid...</td>\n",
              "      <td>película anoche sátira programa estilo realida...</td>\n",
              "    </tr>\n",
              "    <tr>\n",
              "      <th>42491</th>\n",
              "      <td>Maniratnam, quien en la India, a menudo se com...</td>\n",
              "      <td>negativo</td>\n",
              "      <td>maniratnam india menudo compara prominentes ci...</td>\n",
              "      <td>maniratnam india menudo comparar prominente ci...</td>\n",
              "    </tr>\n",
              "    <tr>\n",
              "      <th>42492</th>\n",
              "      <td>Freeway Killer, es un loco que dispara a la ge...</td>\n",
              "      <td>negativo</td>\n",
              "      <td>freeway killer loco dispara gente autopista mi...</td>\n",
              "      <td>freeway killer loco disparar gente autopista m...</td>\n",
              "    </tr>\n",
              "    <tr>\n",
              "      <th>42493</th>\n",
              "      <td>Película muy lenta, aburrida, enigmática. Tal ...</td>\n",
              "      <td>negativo</td>\n",
              "      <td>película lenta aburrida enigmática tal vez tip...</td>\n",
              "      <td>película lento aburrido enigmático tal vez tip...</td>\n",
              "    </tr>\n",
              "    <tr>\n",
              "      <th>42494</th>\n",
              "      <td>Cuéntame como alguien que está feliz de no ver...</td>\n",
              "      <td>positivo</td>\n",
              "      <td>cuéntame alguien feliz ver ningún hastings epi...</td>\n",
              "      <td>cuéntamir alguien feliz ver ninguno hastings e...</td>\n",
              "    </tr>\n",
              "  </tbody>\n",
              "</table>\n",
              "</div>\n",
              "    <div class=\"colab-df-buttons\">\n",
              "\n",
              "  <div class=\"colab-df-container\">\n",
              "    <button class=\"colab-df-convert\" onclick=\"convertToInteractive('df-8d33e88d-9f10-4c53-9a80-60d4e902d4cd')\"\n",
              "            title=\"Convert this dataframe to an interactive table.\"\n",
              "            style=\"display:none;\">\n",
              "\n",
              "  <svg xmlns=\"http://www.w3.org/2000/svg\" height=\"24px\" viewBox=\"0 -960 960 960\">\n",
              "    <path d=\"M120-120v-720h720v720H120Zm60-500h600v-160H180v160Zm220 220h160v-160H400v160Zm0 220h160v-160H400v160ZM180-400h160v-160H180v160Zm440 0h160v-160H620v160ZM180-180h160v-160H180v160Zm440 0h160v-160H620v160Z\"/>\n",
              "  </svg>\n",
              "    </button>\n",
              "\n",
              "  <style>\n",
              "    .colab-df-container {\n",
              "      display:flex;\n",
              "      gap: 12px;\n",
              "    }\n",
              "\n",
              "    .colab-df-convert {\n",
              "      background-color: #E8F0FE;\n",
              "      border: none;\n",
              "      border-radius: 50%;\n",
              "      cursor: pointer;\n",
              "      display: none;\n",
              "      fill: #1967D2;\n",
              "      height: 32px;\n",
              "      padding: 0 0 0 0;\n",
              "      width: 32px;\n",
              "    }\n",
              "\n",
              "    .colab-df-convert:hover {\n",
              "      background-color: #E2EBFA;\n",
              "      box-shadow: 0px 1px 2px rgba(60, 64, 67, 0.3), 0px 1px 3px 1px rgba(60, 64, 67, 0.15);\n",
              "      fill: #174EA6;\n",
              "    }\n",
              "\n",
              "    .colab-df-buttons div {\n",
              "      margin-bottom: 4px;\n",
              "    }\n",
              "\n",
              "    [theme=dark] .colab-df-convert {\n",
              "      background-color: #3B4455;\n",
              "      fill: #D2E3FC;\n",
              "    }\n",
              "\n",
              "    [theme=dark] .colab-df-convert:hover {\n",
              "      background-color: #434B5C;\n",
              "      box-shadow: 0px 1px 3px 1px rgba(0, 0, 0, 0.15);\n",
              "      filter: drop-shadow(0px 1px 2px rgba(0, 0, 0, 0.3));\n",
              "      fill: #FFFFFF;\n",
              "    }\n",
              "  </style>\n",
              "\n",
              "    <script>\n",
              "      const buttonEl =\n",
              "        document.querySelector('#df-8d33e88d-9f10-4c53-9a80-60d4e902d4cd button.colab-df-convert');\n",
              "      buttonEl.style.display =\n",
              "        google.colab.kernel.accessAllowed ? 'block' : 'none';\n",
              "\n",
              "      async function convertToInteractive(key) {\n",
              "        const element = document.querySelector('#df-8d33e88d-9f10-4c53-9a80-60d4e902d4cd');\n",
              "        const dataTable =\n",
              "          await google.colab.kernel.invokeFunction('convertToInteractive',\n",
              "                                                    [key], {});\n",
              "        if (!dataTable) return;\n",
              "\n",
              "        const docLinkHtml = 'Like what you see? Visit the ' +\n",
              "          '<a target=\"_blank\" href=https://colab.research.google.com/notebooks/data_table.ipynb>data table notebook</a>'\n",
              "          + ' to learn more about interactive tables.';\n",
              "        element.innerHTML = '';\n",
              "        dataTable['output_type'] = 'display_data';\n",
              "        await google.colab.output.renderOutput(dataTable, element);\n",
              "        const docLink = document.createElement('div');\n",
              "        docLink.innerHTML = docLinkHtml;\n",
              "        element.appendChild(docLink);\n",
              "      }\n",
              "    </script>\n",
              "  </div>\n",
              "\n",
              "\n",
              "<div id=\"df-5c61c5a9-291c-4793-9d94-9f6bbea3b829\">\n",
              "  <button class=\"colab-df-quickchart\" onclick=\"quickchart('df-5c61c5a9-291c-4793-9d94-9f6bbea3b829')\"\n",
              "            title=\"Suggest charts\"\n",
              "            style=\"display:none;\">\n",
              "\n",
              "<svg xmlns=\"http://www.w3.org/2000/svg\" height=\"24px\"viewBox=\"0 0 24 24\"\n",
              "     width=\"24px\">\n",
              "    <g>\n",
              "        <path d=\"M19 3H5c-1.1 0-2 .9-2 2v14c0 1.1.9 2 2 2h14c1.1 0 2-.9 2-2V5c0-1.1-.9-2-2-2zM9 17H7v-7h2v7zm4 0h-2V7h2v10zm4 0h-2v-4h2v4z\"/>\n",
              "    </g>\n",
              "</svg>\n",
              "  </button>\n",
              "\n",
              "<style>\n",
              "  .colab-df-quickchart {\n",
              "      --bg-color: #E8F0FE;\n",
              "      --fill-color: #1967D2;\n",
              "      --hover-bg-color: #E2EBFA;\n",
              "      --hover-fill-color: #174EA6;\n",
              "      --disabled-fill-color: #AAA;\n",
              "      --disabled-bg-color: #DDD;\n",
              "  }\n",
              "\n",
              "  [theme=dark] .colab-df-quickchart {\n",
              "      --bg-color: #3B4455;\n",
              "      --fill-color: #D2E3FC;\n",
              "      --hover-bg-color: #434B5C;\n",
              "      --hover-fill-color: #FFFFFF;\n",
              "      --disabled-bg-color: #3B4455;\n",
              "      --disabled-fill-color: #666;\n",
              "  }\n",
              "\n",
              "  .colab-df-quickchart {\n",
              "    background-color: var(--bg-color);\n",
              "    border: none;\n",
              "    border-radius: 50%;\n",
              "    cursor: pointer;\n",
              "    display: none;\n",
              "    fill: var(--fill-color);\n",
              "    height: 32px;\n",
              "    padding: 0;\n",
              "    width: 32px;\n",
              "  }\n",
              "\n",
              "  .colab-df-quickchart:hover {\n",
              "    background-color: var(--hover-bg-color);\n",
              "    box-shadow: 0 1px 2px rgba(60, 64, 67, 0.3), 0 1px 3px 1px rgba(60, 64, 67, 0.15);\n",
              "    fill: var(--button-hover-fill-color);\n",
              "  }\n",
              "\n",
              "  .colab-df-quickchart-complete:disabled,\n",
              "  .colab-df-quickchart-complete:disabled:hover {\n",
              "    background-color: var(--disabled-bg-color);\n",
              "    fill: var(--disabled-fill-color);\n",
              "    box-shadow: none;\n",
              "  }\n",
              "\n",
              "  .colab-df-spinner {\n",
              "    border: 2px solid var(--fill-color);\n",
              "    border-color: transparent;\n",
              "    border-bottom-color: var(--fill-color);\n",
              "    animation:\n",
              "      spin 1s steps(1) infinite;\n",
              "  }\n",
              "\n",
              "  @keyframes spin {\n",
              "    0% {\n",
              "      border-color: transparent;\n",
              "      border-bottom-color: var(--fill-color);\n",
              "      border-left-color: var(--fill-color);\n",
              "    }\n",
              "    20% {\n",
              "      border-color: transparent;\n",
              "      border-left-color: var(--fill-color);\n",
              "      border-top-color: var(--fill-color);\n",
              "    }\n",
              "    30% {\n",
              "      border-color: transparent;\n",
              "      border-left-color: var(--fill-color);\n",
              "      border-top-color: var(--fill-color);\n",
              "      border-right-color: var(--fill-color);\n",
              "    }\n",
              "    40% {\n",
              "      border-color: transparent;\n",
              "      border-right-color: var(--fill-color);\n",
              "      border-top-color: var(--fill-color);\n",
              "    }\n",
              "    60% {\n",
              "      border-color: transparent;\n",
              "      border-right-color: var(--fill-color);\n",
              "    }\n",
              "    80% {\n",
              "      border-color: transparent;\n",
              "      border-right-color: var(--fill-color);\n",
              "      border-bottom-color: var(--fill-color);\n",
              "    }\n",
              "    90% {\n",
              "      border-color: transparent;\n",
              "      border-bottom-color: var(--fill-color);\n",
              "    }\n",
              "  }\n",
              "</style>\n",
              "\n",
              "  <script>\n",
              "    async function quickchart(key) {\n",
              "      const quickchartButtonEl =\n",
              "        document.querySelector('#' + key + ' button');\n",
              "      quickchartButtonEl.disabled = true;  // To prevent multiple clicks.\n",
              "      quickchartButtonEl.classList.add('colab-df-spinner');\n",
              "      try {\n",
              "        const charts = await google.colab.kernel.invokeFunction(\n",
              "            'suggestCharts', [key], {});\n",
              "      } catch (error) {\n",
              "        console.error('Error during call to suggestCharts:', error);\n",
              "      }\n",
              "      quickchartButtonEl.classList.remove('colab-df-spinner');\n",
              "      quickchartButtonEl.classList.add('colab-df-quickchart-complete');\n",
              "    }\n",
              "    (() => {\n",
              "      let quickchartButtonEl =\n",
              "        document.querySelector('#df-5c61c5a9-291c-4793-9d94-9f6bbea3b829 button');\n",
              "      quickchartButtonEl.style.display =\n",
              "        google.colab.kernel.accessAllowed ? 'block' : 'none';\n",
              "    })();\n",
              "  </script>\n",
              "</div>\n",
              "\n",
              "    </div>\n",
              "  </div>\n"
            ],
            "application/vnd.google.colaboratory.intrinsic+json": {
              "type": "dataframe",
              "variable_name": "data",
              "summary": "{\n  \"name\": \"data\",\n  \"rows\": 7383,\n  \"fields\": [\n    {\n      \"column\": \"review_es\",\n      \"properties\": {\n        \"dtype\": \"string\",\n        \"num_unique_values\": 7383,\n        \"samples\": [\n          \"\\u00a1Me encant\\u00f3! \\u00bfQu\\u00e9 no es as\\u00ed? - Tienes a tus suburbios, tienes tus zombis, tienes tus problemas familiares, obtuviste tus dilemas sociales, tienes una buena carne de estilo retro-1950 que com\\u00eda bajo la clase en la bah\\u00eda por un inquietante preocupado Sobre si son la siguiente corteza superior de comida. No se pod\\u00eda pedir m\\u00e1s. El castino es excelente. Carrie Ann Moss es la perfecci\\u00f3n absoluta como una ama de casa de supremo social debutante. Ella es tanto sin sentido, como de conspiraci\\u00f3n criminalmente. El sue\\u00f1o de cada compa\\u00f1ero. K'sun es realmente genial, ya que el hijo que intenta ser lo m\\u00e1s normal posible en esta existencia de pesadilla, y de alguna manera sucesivamente. Es una presencia de pantalla genuina. Muy fotog\\u00e9nico, y natural. Sin nombrarlos a todos, el resto del elenco es maravilloso. Henry Czerny juega a un polic\\u00eda sospechoso con instintos afiliados y poco despertamiento como si fuera su persona cotidiana. Billy Connolly es delicioso como Fido. Un buen actor: Deseo que haya desempe\\u00f1ado el papel de t\\u00edtulo en \\\"Braveheart\\\", con la direcci\\u00f3n de Gibson. Mi sentido es que su William Wallace habr\\u00eda estado m\\u00e1s cerca del personaje real. Su Fido est\\u00e1 contenido, pero accesible. Un buen toque. En corta, un gran y maravilloso asquera sat\\u00edrico en moral, valores, pinzas sociales, sentimientos, crecimiento, afrontar en tiempos inciertos y ajustes compensatorios a condiciones imposibles. Un verdadero verdadero show.\",\n          \"Jim Carrey brilla en esta hermosa pel\\u00edcula.Esta es una de mis pel\\u00edculas favoritas.Le\\u00ed todo sobre la fabricaci\\u00f3n y pens\\u00e9 que era incre\\u00edble c\\u00f3mo lo hizo.No puedo esperar hasta que esto salga en DVD.Vi esto en los teatros tantas veces, ni siquiera puedo contar c\\u00f3mo los tiempos lo he visto.\",\n          \"Al final, los cr\\u00e9ditos de las \\\"sombras\\\", despu\\u00e9s de que leemos \\\"dirigidas por John Cassavetes\\\", se pueden ver algunas letras blancas en la pantalla: \\\"La pel\\u00edcula que acabas de ver es improvisada\\\", dicen. Siempre estoy persiguiendo el hecho de que las palabras son tan importantes en las pel\\u00edculas, ya que los cineastas comenzaron a usarlos porque, b\\u00e1sicamente, no hay pel\\u00edcula sin un gui\\u00f3n y muchas otras razones. Cassavetes persigui\\u00f3 el mismo objetivo, y crey\\u00f3 en la libertad de las palabras; \\\"Sombras\\\" es el ejemplo perfecto. Es una pel\\u00edcula sin personajes principales reales, sin l\\u00edneas de parcela principales reales; Es en su mayor\\u00eda personas en diferentes situaciones, hablando. S\\u00ed, algunas de las situaciones est\\u00e1n conectadas, pero los cassavetes, aparentemente siempre, siempre para llegar a hablar, utiliza una t\\u00e9cnica de avance r\\u00e1pido cuando los personajes van a alg\\u00fan lugar o escapando de alguien y no est\\u00e1n hablando. Las aparezas son todo en esta pel\\u00edcula. Por ejemplo, hay una puntuaci\\u00f3n brillante, llena de influencias de jazz y un mont\\u00f3n de solos fant\\u00e1sticos, y hay un personaje que dice que es un m\\u00fasico de jazz y toca la trompeta (Ben, todos los nombres de los personajes son los mismos nombres de los actores \\\"). Sin embargo, nunca lo vemos tocar la trompeta o atascar con una banda; Ni siquiera habla de m\\u00fasica y simplemente vaga con sus amigos alrededor de la ciudad. Hablan mucho, y sobre cualquier cosa que est\\u00e9 en su mente; Ir de lo inteligente que cada uno de ellos es el an\\u00e1lisis hilarante de una escultura \\\". Las sombras\\\" son divertidas en sus referencias intelectuales en las partes como la anterior, porque estos amigos no se cultivan. El \\u00fanico car\\u00e1cter femenino importante en la pel\\u00edcula (Lelia), sin embargo, quiere ser un intelectual. Pero, de nuevo, tiene una conversaci\\u00f3n muy interesante con un hombre mayor en una fiesta, sobre un libro que est\\u00e1 tratando de escribir, y sobre c\\u00f3mo enfrentar la realidad; Pero nada que ver con ser intelectual. En ese mismo partido, una mujer est\\u00e1 haciendo una declaraci\\u00f3n intelectual, llena de complejidad, y le pide a un chico a su lado: \\\"\\u00bfEst\\u00e1 usted de acuerdo?\\\". \\\"S\\u00ed\\\", dice, pero puedes decir que no sabe de lo que est\\u00e1 hablando. Otro personaje, un cantante (Hugh), habla de sus d\\u00edas de gloria en ocasiones, y lo vemos que se desempe\\u00f1amos solo una vez; Pero no hay referencias a la industria musical all\\u00ed. El enfoque de los cassavetes es la relaci\\u00f3n del cantante con su gerente (Rupert), lo que la mayor\\u00eda del tiempo involucra chats sobre cosas triviales y no conversaciones \\\"musicales\\\" reales. As\\u00ed que el importante trato del jugador de trompeta en \\\"Shadows\\\" es el momento en que pasa con sus amigos; La Girl Intellectual Wannabe es su forma de manejar relaciones rom\\u00e1nticas (uno de los puntos fuertes de la pel\\u00edcula) y el cantante es el v\\u00ednculo con su gerente ... apariciones. La raz\\u00f3n por la que las actuaciones no son importantes en esta pel\\u00edcula es simple. Los cassavetes necesitaban personas que podr\\u00edan dominar la improvisaci\\u00f3n, sin importarlo si en realidad eran buenos. Creo que algunos de ellos no son, pero seguramente saben c\\u00f3mo improvisarse en una escena, y puede notar lo bien que lo hacen. \\\"Sombras\\\" no se trata de int\\u00e9rpretes; Se trata de una forma de hacer el cine, bas\\u00e1ndose en la magia de la conversaci\\u00f3n; Y all\\u00ed se pod\\u00eda decir que las actuaciones significan algo. Es por eso que en cada conversaci\\u00f3n, la c\\u00e1mara es como un acosador, constantemente a los ojos de cada personaje, buscando constantemente las expresiones que vienen con el habla natural. Hay una escena donde el trompeta y sus amigos est\\u00e1n tratando de recoger a algunas chicas. Son tres, por lo que cada uno de ellos se encuentra junto a una ni\\u00f1a (las chicas tienen tres dos) en tres mesas diferentes. Todos hablan al mismo tiempo y la c\\u00e1mara dispara a trav\\u00e9s de la mesa, y a veces los amigos se miran el uno al otro, mientras dicen lo que dicen, es natural.\"\n        ],\n        \"semantic_type\": \"\",\n        \"description\": \"\"\n      }\n    },\n    {\n      \"column\": \"sentimiento\",\n      \"properties\": {\n        \"dtype\": \"category\",\n        \"num_unique_values\": 2,\n        \"samples\": [\n          \"positivo\",\n          \"negativo\"\n        ],\n        \"semantic_type\": \"\",\n        \"description\": \"\"\n      }\n    },\n    {\n      \"column\": \"review_es_clean\",\n      \"properties\": {\n        \"dtype\": \"string\",\n        \"num_unique_values\": 7383,\n        \"samples\": [\n          \"encant\\u00f3 as\\u00ed suburbios zombis problemas familiares obtuviste dilemas sociales buena carne estilo retro com\\u00eda bajo clase bah\\u00eda inquietante preocupado siguiente corteza superior comida pod\\u00eda pedir castino excelente carrie ann moss perfecci\\u00f3n absoluta ama casa supremo social debutante conspiraci\\u00f3n criminalmente sue\\u00f1o cada compa\\u00f1ero sun realmente genial hijo intenta ser normal posible existencia pesadilla alguna manera sucesivamente presencia pantalla genuina fotog\\u00e9nico natural nombrarlos resto elenco maravilloso henry czerny juega polic\\u00eda sospechoso instintos afiliados despertamiento persona cotidiana billy connolly delicioso fido buen actor deseo desempe\\u00f1ado papel t\\u00edtulo braveheart direcci\\u00f3n gibson william wallace cerca personaje real fido contenido accesible buen toque corta gran maravilloso asquera sat\\u00edrico moral valores pinzas sociales sentimientos crecimiento afrontar tiempos inciertos ajustes compensatorios condiciones imposibles verdadero verdadero show\",\n          \"jim carrey brilla hermosa pel\\u00edcula pel\\u00edculas favoritas le\\u00ed fabricaci\\u00f3n pens\\u00e9 incre\\u00edble c\\u00f3mo hizo puedo esperar salga dvd teatros tantas veces siquiera puedo contar c\\u00f3mo tiempos visto\"\n        ],\n        \"semantic_type\": \"\",\n        \"description\": \"\"\n      }\n    },\n    {\n      \"column\": \"review_es_lemma\",\n      \"properties\": {\n        \"dtype\": \"string\",\n        \"num_unique_values\": 7383,\n        \"samples\": [\n          \"encantar as\\u00ed suburbio zombi problema familiar obtuvistar dilema social buen carne estilo retro comer bajo clase bah\\u00eda inquietante preocupado siguiente corteza superior comida poder pedir castino excelente carrie ann moss perfecci\\u00f3n absoluto ama casa supremo social debutante conspiraci\\u00f3n criminalmente sue\\u00f1o cada compa\\u00f1ero sun realmente genial hijo intentar ser normal posible existencia pesadillar alguno manera sucesivamente presencia pantalla genu\\u00edn fotog\\u00e9nico natural nombrar \\u00e9l resto elenco maravilloso henry czerny jugar polic\\u00eda sospechoso instinto afiliado despertamiento persona cotidiano billy connolly delicioso fido buen actor desear desempe\\u00f1ado papel t\\u00edtulo braveheart direcci\\u00f3n gibson william wallace cerca personaje real fido contenido accesible buen toque corto gran maravilloso asquera sat\\u00edrico moral valor pinza social sentimiento crecimiento afrontar tiempo incierto ajuste compensatorio condici\\u00f3n imposible verdadero verdadero show\",\n          \"jim carrey brillar hermoso pel\\u00edcula pel\\u00edcula favorito leer fabricaci\\u00f3n pensar incre\\u00edble c\\u00f3mo hacer poder esperar salir dvd teatro tanto vez siquiera poder contar c\\u00f3mo tiempo visto\"\n        ],\n        \"semantic_type\": \"\",\n        \"description\": \"\"\n      }\n    }\n  ]\n}"
            }
          },
          "metadata": {},
          "execution_count": 79
        }
      ]
    },
    {
      "cell_type": "code",
      "source": [
        "columns_remove = ['review_es','review_es_clean']\n",
        "data=data.drop(columns_remove ,axis=1)"
      ],
      "metadata": {
        "id": "zvjCBW6a9XO9"
      },
      "execution_count": 80,
      "outputs": []
    },
    {
      "cell_type": "code",
      "source": [
        "from sklearn.model_selection import train_test_split\n",
        "train, test = train_test_split(data,test_size=0.30,random_state=42)\n",
        "x_train,y_train=train['review_es_lemma'],train['sentimiento']\n",
        "x_test,y_test=test['review_es_lemma'],test['sentimiento']\n",
        "print(len(x_train),len(x_test))"
      ],
      "metadata": {
        "colab": {
          "base_uri": "https://localhost:8080/"
        },
        "id": "BpMfb43M9Xsz",
        "outputId": "57c9e88b-c4e6-4cb4-c25e-5eebbac57bc9"
      },
      "execution_count": 81,
      "outputs": [
        {
          "output_type": "stream",
          "name": "stdout",
          "text": [
            "5168 2215\n"
          ]
        }
      ]
    },
    {
      "cell_type": "markdown",
      "source": [
        "\n",
        "\n",
        "#Vectorizando usando TF-IDF.  (Term Frequency-Inverse Document Frequency)\n"
      ],
      "metadata": {
        "id": "p9QW9bjw9dsB"
      }
    },
    {
      "cell_type": "code",
      "source": [
        "tfidf=TfidfVectorizer(ngram_range=(1,2),min_df=0.005,max_df=0.70)\n",
        "X_train=tfidf.fit_transform(x_train).toarray()  #y_train no es necesario porque es la salida\n",
        "X_test=tfidf.transform(x_test).toarray()  #no toca hacer fit de nuevo ya que tfidf ya hizo fit arriba en train\n",
        "print(\"train\",X_train.shape)\n",
        "print(\"test\",X_test.shape)"
      ],
      "metadata": {
        "colab": {
          "base_uri": "https://localhost:8080/"
        },
        "id": "C1pBW8i49efW",
        "outputId": "ec730239-a9a5-46f9-f8ba-ed3b8643b315"
      },
      "execution_count": 90,
      "outputs": [
        {
          "output_type": "stream",
          "name": "stdout",
          "text": [
            "train (5168, 3553)\n",
            "test (2215, 3553)\n"
          ]
        }
      ]
    },
    {
      "cell_type": "code",
      "source": [
        "X_train"
      ],
      "metadata": {
        "colab": {
          "base_uri": "https://localhost:8080/"
        },
        "id": "sSlrWqz3f-m2",
        "outputId": "1b7242db-3320-457c-a594-d4f00535819c"
      },
      "execution_count": 91,
      "outputs": [
        {
          "output_type": "execute_result",
          "data": {
            "text/plain": [
              "array([[0., 0., 0., ..., 0., 0., 0.],\n",
              "       [0., 0., 0., ..., 0., 0., 0.],\n",
              "       [0., 0., 0., ..., 0., 0., 0.],\n",
              "       ...,\n",
              "       [0., 0., 0., ..., 0., 0., 0.],\n",
              "       [0., 0., 0., ..., 0., 0., 0.],\n",
              "       [0., 0., 0., ..., 0., 0., 0.]])"
            ]
          },
          "metadata": {},
          "execution_count": 91
        }
      ]
    },
    {
      "cell_type": "code",
      "source": [
        "import keras\n",
        "from sklearn.preprocessing import LabelEncoder\n",
        "from keras.models import Sequential\n",
        "from keras.utils import plot_model\n",
        "from keras.layers import Convolution1D, AveragePooling1D, Flatten, Dense, Input, MaxPooling1D, Dropout\n",
        "from sklearn.metrics import classification_report,confusion_matrix"
      ],
      "metadata": {
        "id": "e85KDbVH9gXs"
      },
      "execution_count": 92,
      "outputs": []
    },
    {
      "cell_type": "code",
      "source": [
        "le = LabelEncoder()\n",
        "y_train_encoded = le.fit_transform(y_train)\n",
        "y_test_encoded = le.transform(y_test)\n",
        "print(le.classes_)"
      ],
      "metadata": {
        "colab": {
          "base_uri": "https://localhost:8080/"
        },
        "id": "aTr_ngpk9o2w",
        "outputId": "418e111e-09e4-4331-d4b9-f4c98ca1709a"
      },
      "execution_count": 93,
      "outputs": [
        {
          "output_type": "stream",
          "name": "stdout",
          "text": [
            "['negativo' 'positivo']\n"
          ]
        }
      ]
    },
    {
      "cell_type": "markdown",
      "source": [
        "# Modelo CNN"
      ],
      "metadata": {
        "id": "xG6-GEPd96Sn"
      }
    },
    {
      "cell_type": "markdown",
      "source": [],
      "metadata": {
        "id": "1bnYZkjZ99ve"
      }
    },
    {
      "cell_type": "code",
      "source": [
        "modelo = Sequential()\n",
        "modelo.add(Input(shape=(3553,1)))\n",
        "modelo.add(Convolution1D(128, kernel_size=3, activation=\"relu\"))\n",
        "modelo.add(MaxPooling1D(pool_size=(2)))\n",
        "modelo.add(Dropout(0.5))\n",
        "modelo.add(Convolution1D(32, kernel_size=3, activation=\"relu\"))\n",
        "modelo.add(MaxPooling1D(pool_size=(2)))\n",
        "modelo.add(Dropout(0.5))\n",
        "modelo.add(Flatten())\n",
        "modelo.add(Dense(32, activation=\"relu\"))\n",
        "modelo.add(Dense(1, activation=\"sigmoid\"))\n",
        "\n",
        "modelo.compile(optimizer=\"adam\", loss=\"binary_crossentropy\",\n",
        "               metrics=[\"accuracy\",\"Precision\"]\n",
        ")\n",
        "modelo.summary()"
      ],
      "metadata": {
        "colab": {
          "base_uri": "https://localhost:8080/",
          "height": 417
        },
        "id": "9zRILziQ9--n",
        "outputId": "bbecc023-76b0-4532-ef27-6e12acaa9d58"
      },
      "execution_count": 94,
      "outputs": [
        {
          "output_type": "display_data",
          "data": {
            "text/plain": [
              "\u001b[1mModel: \"sequential_4\"\u001b[0m\n"
            ],
            "text/html": [
              "<pre style=\"white-space:pre;overflow-x:auto;line-height:normal;font-family:Menlo,'DejaVu Sans Mono',consolas,'Courier New',monospace\"><span style=\"font-weight: bold\">Model: \"sequential_4\"</span>\n",
              "</pre>\n"
            ]
          },
          "metadata": {}
        },
        {
          "output_type": "display_data",
          "data": {
            "text/plain": [
              "┏━━━━━━━━━━━━━━━━━━━━━━━━━━━━━━━━━━━━━━┳━━━━━━━━━━━━━━━━━━━━━━━━━━━━━┳━━━━━━━━━━━━━━━━━┓\n",
              "┃\u001b[1m \u001b[0m\u001b[1mLayer (type)                        \u001b[0m\u001b[1m \u001b[0m┃\u001b[1m \u001b[0m\u001b[1mOutput Shape               \u001b[0m\u001b[1m \u001b[0m┃\u001b[1m \u001b[0m\u001b[1m        Param #\u001b[0m\u001b[1m \u001b[0m┃\n",
              "┡━━━━━━━━━━━━━━━━━━━━━━━━━━━━━━━━━━━━━━╇━━━━━━━━━━━━━━━━━━━━━━━━━━━━━╇━━━━━━━━━━━━━━━━━┩\n",
              "│ conv1d_8 (\u001b[38;5;33mConv1D\u001b[0m)                    │ (\u001b[38;5;45mNone\u001b[0m, \u001b[38;5;34m3551\u001b[0m, \u001b[38;5;34m128\u001b[0m)           │             \u001b[38;5;34m512\u001b[0m │\n",
              "├──────────────────────────────────────┼─────────────────────────────┼─────────────────┤\n",
              "│ max_pooling1d_8 (\u001b[38;5;33mMaxPooling1D\u001b[0m)       │ (\u001b[38;5;45mNone\u001b[0m, \u001b[38;5;34m1775\u001b[0m, \u001b[38;5;34m128\u001b[0m)           │               \u001b[38;5;34m0\u001b[0m │\n",
              "├──────────────────────────────────────┼─────────────────────────────┼─────────────────┤\n",
              "│ dropout_8 (\u001b[38;5;33mDropout\u001b[0m)                  │ (\u001b[38;5;45mNone\u001b[0m, \u001b[38;5;34m1775\u001b[0m, \u001b[38;5;34m128\u001b[0m)           │               \u001b[38;5;34m0\u001b[0m │\n",
              "├──────────────────────────────────────┼─────────────────────────────┼─────────────────┤\n",
              "│ conv1d_9 (\u001b[38;5;33mConv1D\u001b[0m)                    │ (\u001b[38;5;45mNone\u001b[0m, \u001b[38;5;34m1773\u001b[0m, \u001b[38;5;34m32\u001b[0m)            │          \u001b[38;5;34m12,320\u001b[0m │\n",
              "├──────────────────────────────────────┼─────────────────────────────┼─────────────────┤\n",
              "│ max_pooling1d_9 (\u001b[38;5;33mMaxPooling1D\u001b[0m)       │ (\u001b[38;5;45mNone\u001b[0m, \u001b[38;5;34m886\u001b[0m, \u001b[38;5;34m32\u001b[0m)             │               \u001b[38;5;34m0\u001b[0m │\n",
              "├──────────────────────────────────────┼─────────────────────────────┼─────────────────┤\n",
              "│ dropout_9 (\u001b[38;5;33mDropout\u001b[0m)                  │ (\u001b[38;5;45mNone\u001b[0m, \u001b[38;5;34m886\u001b[0m, \u001b[38;5;34m32\u001b[0m)             │               \u001b[38;5;34m0\u001b[0m │\n",
              "├──────────────────────────────────────┼─────────────────────────────┼─────────────────┤\n",
              "│ flatten_4 (\u001b[38;5;33mFlatten\u001b[0m)                  │ (\u001b[38;5;45mNone\u001b[0m, \u001b[38;5;34m28352\u001b[0m)               │               \u001b[38;5;34m0\u001b[0m │\n",
              "├──────────────────────────────────────┼─────────────────────────────┼─────────────────┤\n",
              "│ dense_8 (\u001b[38;5;33mDense\u001b[0m)                      │ (\u001b[38;5;45mNone\u001b[0m, \u001b[38;5;34m32\u001b[0m)                  │         \u001b[38;5;34m907,296\u001b[0m │\n",
              "├──────────────────────────────────────┼─────────────────────────────┼─────────────────┤\n",
              "│ dense_9 (\u001b[38;5;33mDense\u001b[0m)                      │ (\u001b[38;5;45mNone\u001b[0m, \u001b[38;5;34m1\u001b[0m)                   │              \u001b[38;5;34m33\u001b[0m │\n",
              "└──────────────────────────────────────┴─────────────────────────────┴─────────────────┘\n"
            ],
            "text/html": [
              "<pre style=\"white-space:pre;overflow-x:auto;line-height:normal;font-family:Menlo,'DejaVu Sans Mono',consolas,'Courier New',monospace\">┏━━━━━━━━━━━━━━━━━━━━━━━━━━━━━━━━━━━━━━┳━━━━━━━━━━━━━━━━━━━━━━━━━━━━━┳━━━━━━━━━━━━━━━━━┓\n",
              "┃<span style=\"font-weight: bold\"> Layer (type)                         </span>┃<span style=\"font-weight: bold\"> Output Shape                </span>┃<span style=\"font-weight: bold\">         Param # </span>┃\n",
              "┡━━━━━━━━━━━━━━━━━━━━━━━━━━━━━━━━━━━━━━╇━━━━━━━━━━━━━━━━━━━━━━━━━━━━━╇━━━━━━━━━━━━━━━━━┩\n",
              "│ conv1d_8 (<span style=\"color: #0087ff; text-decoration-color: #0087ff\">Conv1D</span>)                    │ (<span style=\"color: #00d7ff; text-decoration-color: #00d7ff\">None</span>, <span style=\"color: #00af00; text-decoration-color: #00af00\">3551</span>, <span style=\"color: #00af00; text-decoration-color: #00af00\">128</span>)           │             <span style=\"color: #00af00; text-decoration-color: #00af00\">512</span> │\n",
              "├──────────────────────────────────────┼─────────────────────────────┼─────────────────┤\n",
              "│ max_pooling1d_8 (<span style=\"color: #0087ff; text-decoration-color: #0087ff\">MaxPooling1D</span>)       │ (<span style=\"color: #00d7ff; text-decoration-color: #00d7ff\">None</span>, <span style=\"color: #00af00; text-decoration-color: #00af00\">1775</span>, <span style=\"color: #00af00; text-decoration-color: #00af00\">128</span>)           │               <span style=\"color: #00af00; text-decoration-color: #00af00\">0</span> │\n",
              "├──────────────────────────────────────┼─────────────────────────────┼─────────────────┤\n",
              "│ dropout_8 (<span style=\"color: #0087ff; text-decoration-color: #0087ff\">Dropout</span>)                  │ (<span style=\"color: #00d7ff; text-decoration-color: #00d7ff\">None</span>, <span style=\"color: #00af00; text-decoration-color: #00af00\">1775</span>, <span style=\"color: #00af00; text-decoration-color: #00af00\">128</span>)           │               <span style=\"color: #00af00; text-decoration-color: #00af00\">0</span> │\n",
              "├──────────────────────────────────────┼─────────────────────────────┼─────────────────┤\n",
              "│ conv1d_9 (<span style=\"color: #0087ff; text-decoration-color: #0087ff\">Conv1D</span>)                    │ (<span style=\"color: #00d7ff; text-decoration-color: #00d7ff\">None</span>, <span style=\"color: #00af00; text-decoration-color: #00af00\">1773</span>, <span style=\"color: #00af00; text-decoration-color: #00af00\">32</span>)            │          <span style=\"color: #00af00; text-decoration-color: #00af00\">12,320</span> │\n",
              "├──────────────────────────────────────┼─────────────────────────────┼─────────────────┤\n",
              "│ max_pooling1d_9 (<span style=\"color: #0087ff; text-decoration-color: #0087ff\">MaxPooling1D</span>)       │ (<span style=\"color: #00d7ff; text-decoration-color: #00d7ff\">None</span>, <span style=\"color: #00af00; text-decoration-color: #00af00\">886</span>, <span style=\"color: #00af00; text-decoration-color: #00af00\">32</span>)             │               <span style=\"color: #00af00; text-decoration-color: #00af00\">0</span> │\n",
              "├──────────────────────────────────────┼─────────────────────────────┼─────────────────┤\n",
              "│ dropout_9 (<span style=\"color: #0087ff; text-decoration-color: #0087ff\">Dropout</span>)                  │ (<span style=\"color: #00d7ff; text-decoration-color: #00d7ff\">None</span>, <span style=\"color: #00af00; text-decoration-color: #00af00\">886</span>, <span style=\"color: #00af00; text-decoration-color: #00af00\">32</span>)             │               <span style=\"color: #00af00; text-decoration-color: #00af00\">0</span> │\n",
              "├──────────────────────────────────────┼─────────────────────────────┼─────────────────┤\n",
              "│ flatten_4 (<span style=\"color: #0087ff; text-decoration-color: #0087ff\">Flatten</span>)                  │ (<span style=\"color: #00d7ff; text-decoration-color: #00d7ff\">None</span>, <span style=\"color: #00af00; text-decoration-color: #00af00\">28352</span>)               │               <span style=\"color: #00af00; text-decoration-color: #00af00\">0</span> │\n",
              "├──────────────────────────────────────┼─────────────────────────────┼─────────────────┤\n",
              "│ dense_8 (<span style=\"color: #0087ff; text-decoration-color: #0087ff\">Dense</span>)                      │ (<span style=\"color: #00d7ff; text-decoration-color: #00d7ff\">None</span>, <span style=\"color: #00af00; text-decoration-color: #00af00\">32</span>)                  │         <span style=\"color: #00af00; text-decoration-color: #00af00\">907,296</span> │\n",
              "├──────────────────────────────────────┼─────────────────────────────┼─────────────────┤\n",
              "│ dense_9 (<span style=\"color: #0087ff; text-decoration-color: #0087ff\">Dense</span>)                      │ (<span style=\"color: #00d7ff; text-decoration-color: #00d7ff\">None</span>, <span style=\"color: #00af00; text-decoration-color: #00af00\">1</span>)                   │              <span style=\"color: #00af00; text-decoration-color: #00af00\">33</span> │\n",
              "└──────────────────────────────────────┴─────────────────────────────┴─────────────────┘\n",
              "</pre>\n"
            ]
          },
          "metadata": {}
        },
        {
          "output_type": "display_data",
          "data": {
            "text/plain": [
              "\u001b[1m Total params: \u001b[0m\u001b[38;5;34m920,161\u001b[0m (3.51 MB)\n"
            ],
            "text/html": [
              "<pre style=\"white-space:pre;overflow-x:auto;line-height:normal;font-family:Menlo,'DejaVu Sans Mono',consolas,'Courier New',monospace\"><span style=\"font-weight: bold\"> Total params: </span><span style=\"color: #00af00; text-decoration-color: #00af00\">920,161</span> (3.51 MB)\n",
              "</pre>\n"
            ]
          },
          "metadata": {}
        },
        {
          "output_type": "display_data",
          "data": {
            "text/plain": [
              "\u001b[1m Trainable params: \u001b[0m\u001b[38;5;34m920,161\u001b[0m (3.51 MB)\n"
            ],
            "text/html": [
              "<pre style=\"white-space:pre;overflow-x:auto;line-height:normal;font-family:Menlo,'DejaVu Sans Mono',consolas,'Courier New',monospace\"><span style=\"font-weight: bold\"> Trainable params: </span><span style=\"color: #00af00; text-decoration-color: #00af00\">920,161</span> (3.51 MB)\n",
              "</pre>\n"
            ]
          },
          "metadata": {}
        },
        {
          "output_type": "display_data",
          "data": {
            "text/plain": [
              "\u001b[1m Non-trainable params: \u001b[0m\u001b[38;5;34m0\u001b[0m (0.00 B)\n"
            ],
            "text/html": [
              "<pre style=\"white-space:pre;overflow-x:auto;line-height:normal;font-family:Menlo,'DejaVu Sans Mono',consolas,'Courier New',monospace\"><span style=\"font-weight: bold\"> Non-trainable params: </span><span style=\"color: #00af00; text-decoration-color: #00af00\">0</span> (0.00 B)\n",
              "</pre>\n"
            ]
          },
          "metadata": {}
        }
      ]
    },
    {
      "cell_type": "code",
      "source": [
        "modelo.fit(X_train, y_train_encoded, validation_batch_size=(X_test,y_test_encoded),epochs=20)\n",
        "pred = modelo.predict(X_test)\n",
        "pred_labels = (pred > 0.5).astype(int)\n",
        "\n",
        "print(classification_report(y_test_encoded, pred_labels))"
      ],
      "metadata": {
        "colab": {
          "base_uri": "https://localhost:8080/"
        },
        "id": "-AKTzBlD-Bqk",
        "outputId": "8d3df3e9-9607-40a2-f8a8-15f86cb43bb9"
      },
      "execution_count": null,
      "outputs": [
        {
          "output_type": "stream",
          "name": "stdout",
          "text": [
            "Epoch 1/20\n",
            "\u001b[1m162/162\u001b[0m \u001b[32m━━━━━━━━━━━━━━━━━━━━\u001b[0m\u001b[37m\u001b[0m \u001b[1m93s\u001b[0m 559ms/step - Precision: 0.6767 - accuracy: 0.6464 - loss: 0.6293\n",
            "Epoch 2/20\n",
            "\u001b[1m162/162\u001b[0m \u001b[32m━━━━━━━━━━━━━━━━━━━━\u001b[0m\u001b[37m\u001b[0m \u001b[1m136s\u001b[0m 527ms/step - Precision: 0.8301 - accuracy: 0.8339 - loss: 0.3722\n",
            "Epoch 3/20\n",
            "\u001b[1m 77/162\u001b[0m \u001b[32m━━━━━━━━━\u001b[0m\u001b[37m━━━━━━━━━━━\u001b[0m \u001b[1m42s\u001b[0m 504ms/step - Precision: 0.8636 - accuracy: 0.8637 - loss: 0.3092"
          ]
        }
      ]
    },
    {
      "cell_type": "markdown",
      "source": [
        "#Pruebas del Modelo"
      ],
      "metadata": {
        "id": "mJZYs9eehPZN"
      }
    },
    {
      "cell_type": "code",
      "source": [
        "print(\"Críticas Negativas\")\n",
        "print(modelo.predict(tfidf.transform(['Esta película fue una auténtica pérdida de tiempo. El guion era confuso y la trama carecía de coherencia. Los actores parecían desinteresados y poco comprometidos con sus personajes. Sin duda, una de las peores películas que he visto']).toarray()))\n",
        "print(modelo.predict(tfidf.transform(['Es increíble que esta película haya recibido buenas críticas. La trama era predecible y los diálogos clichés hicieron que la experiencia fuera monótona. Además, los efectos especiales dejaban mucho que desear y la dirección carecía de originalidad.']).toarray()))\n",
        "print(modelo.predict(tfidf.transform(['Una película que se presenta como profunda y reflexiva, pero que solo consiguió aburrirme. Los personajes eran insulsos y no despertaron ninguna emoción en mí. No recomendaría perder el tiempo viéndola.']).toarray()))\n",
        "print(modelo.predict(tfidf.transform(['Esta película prometía ser una emocionante aventura, pero terminó siendo un intento fallido. Aunque los efectos especiales eran impresionantes, no lograron compensar la falta de desarrollo de la trama y la falta de carisma de los personajes. No vale la pena.']).toarray()))\n",
        "print(modelo.predict(tfidf.transform(['Una comedia que no provocó ni una sola sonrisa en mí. Los chistes eran forzados y los actores parecían sobreactuar en todo momento. Definitivamente, evitaría esta película.']).toarray()))\n",
        "\n",
        "print(\"Críticas Positivas\")\n",
        "print(modelo.predict(tfidf.transform(['Esta película es una verdadera obra maestra del cine. El guion es inteligente y conmovedor, manteniéndote cautivado de principio a fin. Las actuaciones son excepcionales, y la dirección es sobresaliente. Sin duda, una película que no debes perderte.']).toarray()))\n",
        "print(modelo.predict(tfidf.transform(['Una joya del cine. La historia es profundamente emotiva y te hace reflexionar sobre la vida. Los efectos visuales son impresionantes y la banda sonora es cautivadora. Los actores interpretan personajes memorables que te sumergen en la trama.']).toarray()))\n",
        "print(modelo.predict(tfidf.transform(['Una película que te deja sin aliento. La acción es vertiginosa y las escenas de combate están maravillosamente coreografiadas. Además, el guion, lleno de giros inesperados, te mantiene en vilo hasta el final. Una experiencia cinematográfica inolvidable.']).toarray()))\n",
        "print(modelo.predict(tfidf.transform(['Una comedia ingeniosa y refrescante que te hará reír a carcajadas. Los diálogos son brillantes y la química entre los actores es perfecta. La dirección logra capturar la esencia de la historia de manera divertida y entretenida. Una película que te dejará de buen humor.']).toarray()))\n",
        "print(modelo.predict(tfidf.transform(['Una película que te transporta a un asombroso mundo de fantasía. Los efectos especiales son impresionantes y te sumergen en ese universo mágico. La historia es conmovedora y los personajes te roban el corazón. Una película que te hace creer en la magia del cine.']).toarray()))"
      ],
      "metadata": {
        "colab": {
          "base_uri": "https://localhost:8080/"
        },
        "id": "qj0jsg1G-HKn",
        "outputId": "e033c752-2d31-404b-bb0d-db4ccae948c0"
      },
      "execution_count": 63,
      "outputs": [
        {
          "output_type": "stream",
          "name": "stdout",
          "text": [
            "Críticas Negativas\n",
            "\u001b[1m1/1\u001b[0m \u001b[32m━━━━━━━━━━━━━━━━━━━━\u001b[0m\u001b[37m\u001b[0m \u001b[1m0s\u001b[0m 86ms/step\n",
            "[[0.9621028]]\n",
            "\u001b[1m1/1\u001b[0m \u001b[32m━━━━━━━━━━━━━━━━━━━━\u001b[0m\u001b[37m\u001b[0m \u001b[1m0s\u001b[0m 37ms/step\n",
            "[[0.9793031]]\n",
            "\u001b[1m1/1\u001b[0m \u001b[32m━━━━━━━━━━━━━━━━━━━━\u001b[0m\u001b[37m\u001b[0m \u001b[1m0s\u001b[0m 37ms/step\n",
            "[[0.5029111]]\n",
            "\u001b[1m1/1\u001b[0m \u001b[32m━━━━━━━━━━━━━━━━━━━━\u001b[0m\u001b[37m\u001b[0m \u001b[1m0s\u001b[0m 38ms/step\n",
            "[[0.26314256]]\n",
            "\u001b[1m1/1\u001b[0m \u001b[32m━━━━━━━━━━━━━━━━━━━━\u001b[0m\u001b[37m\u001b[0m \u001b[1m0s\u001b[0m 87ms/step\n",
            "[[0.56254274]]\n",
            "Críticas Positivas\n",
            "\u001b[1m1/1\u001b[0m \u001b[32m━━━━━━━━━━━━━━━━━━━━\u001b[0m\u001b[37m\u001b[0m \u001b[1m0s\u001b[0m 50ms/step\n",
            "[[0.70207644]]\n",
            "\u001b[1m1/1\u001b[0m \u001b[32m━━━━━━━━━━━━━━━━━━━━\u001b[0m\u001b[37m\u001b[0m \u001b[1m0s\u001b[0m 56ms/step\n",
            "[[0.9810323]]\n",
            "\u001b[1m1/1\u001b[0m \u001b[32m━━━━━━━━━━━━━━━━━━━━\u001b[0m\u001b[37m\u001b[0m \u001b[1m0s\u001b[0m 38ms/step\n",
            "[[0.12811089]]\n",
            "\u001b[1m1/1\u001b[0m \u001b[32m━━━━━━━━━━━━━━━━━━━━\u001b[0m\u001b[37m\u001b[0m \u001b[1m0s\u001b[0m 40ms/step\n",
            "[[0.9910828]]\n",
            "\u001b[1m1/1\u001b[0m \u001b[32m━━━━━━━━━━━━━━━━━━━━\u001b[0m\u001b[37m\u001b[0m \u001b[1m0s\u001b[0m 37ms/step\n",
            "[[0.9984299]]\n"
          ]
        }
      ]
    },
    {
      "cell_type": "code",
      "source": [
        "\n",
        "# Graficar el modelo y guardar la imagen\n",
        "plot_model(modelo, to_file='model_architecture.png', show_shapes=True, show_layer_names=True)\n",
        "\n",
        "print(\"Modelo graficado y guardado como 'model_architecture.png'\")"
      ],
      "metadata": {
        "colab": {
          "base_uri": "https://localhost:8080/"
        },
        "id": "YU2hldAoFIxe",
        "outputId": "67e8ad2d-db92-4f63-c0e2-9e3db0120789"
      },
      "execution_count": null,
      "outputs": [
        {
          "output_type": "stream",
          "name": "stdout",
          "text": [
            "Modelo graficado y guardado como 'model_architecture.png'\n"
          ]
        }
      ]
    },
    {
      "cell_type": "code",
      "source": [
        "#Si el modelo necesita ser exportado.\n",
        "modelo.save('modelo_imdb.h5')"
      ],
      "metadata": {
        "id": "4RWEa3iOFUb4"
      },
      "execution_count": null,
      "outputs": []
    },
    {
      "cell_type": "code",
      "source": [],
      "metadata": {
        "id": "r1BOQ2eTFpN_"
      },
      "execution_count": null,
      "outputs": []
    }
  ]
}